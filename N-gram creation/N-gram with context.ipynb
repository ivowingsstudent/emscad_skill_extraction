{
 "cells": [
  {
   "cell_type": "code",
   "execution_count": 1,
   "metadata": {},
   "outputs": [],
   "source": [
    "import pandas as pd\n",
    "import spacy \n",
    "from tqdm import tqdm\n",
    "import csv\n",
    "from spacy.matcher import PhraseMatcher\n",
    "from sklearn.utils import shuffle\n",
    "nlp = spacy.load(\"en_core_web_lg\")"
   ]
  },
  {
   "cell_type": "code",
   "execution_count": 3,
   "metadata": {},
   "outputs": [],
   "source": [
    "#no stopwords contains NAN sentences\n",
    "columnname = 'sentence'\n",
    "sentences_jobpostings = pd.read_csv(\"/Users/ivowings/Sync/Thesis/Datasources/Preprocessed/sentences/sentences_emscad.csv\")\n",
    "trigrams = pd.read_csv(\"/Users/ivowings/Sync/Thesis/Datasources/Preprocessed/Combined/Taxonomy/n-grams.csv\",sep=',')\n",
    "trigrams = trigrams[['allgrams']]"
   ]
  },
  {
   "cell_type": "code",
   "execution_count": 4,
   "metadata": {},
   "outputs": [
    {
     "name": "stderr",
     "output_type": "stream",
     "text": [
      "100%|██████████| 8985/8985 [00:48<00:00, 184.07it/s]\n"
     ]
    }
   ],
   "source": [
    "matcher = PhraseMatcher(nlp.vocab)\n",
    "\n",
    "#Adding all the trigrams to the matcher\n",
    "for gram in tqdm(trigrams['allgrams']):\n",
    "    matcher.add(\"NGRAM\", [nlp(gram)])\n"
   ]
  },
  {
   "cell_type": "code",
   "execution_count": 5,
   "metadata": {},
   "outputs": [
    {
     "name": "stderr",
     "output_type": "stream",
     "text": [
      "100%|██████████| 302284/302284 [44:47<00:00, 112.47it/s] \n"
     ]
    }
   ],
   "source": [
    "leftcontextstorage = []\n",
    "recoveredgramstorage = []\n",
    "rightcontextstorage = []\n",
    "\n",
    "for sentence in tqdm(sentences_jobpostings[columnname]):\n",
    "\n",
    "    #Intiatilizing the sentence and searching for matches\n",
    "    doc = nlp(sentence)\n",
    "    matches = matcher(doc)\n",
    "\n",
    "    for match_id, start, end in matches:\n",
    "        \n",
    "        #Getting up to 5 contextwords next to the grams\n",
    "        for contextnumbers in range(1,6,1):\n",
    "\n",
    "            #Defining the number of context words\n",
    "            leftcontextnumbers = contextnumbers\n",
    "            rightcontextnumbers = contextnumbers\n",
    "\n",
    "            #Checking if there is any context to the left or right of the gram, if not skipping the gram\n",
    "            if start == 0 or end == len(doc):\n",
    "                continue\n",
    "\n",
    "            #Checking if there is enough context to the left of the gram\n",
    "            if start < leftcontextnumbers:\n",
    "                leftcontextnumbers = start\n",
    "            #Checking if there is enough context to the right of the gram\n",
    "            elif end+rightcontextnumbers > len(doc):\n",
    "                rightcontextnumbers = len(doc)-end\n",
    "\n",
    "            # Get the left context of the gram\n",
    "            leftcontext = doc[start-leftcontextnumbers:start]\n",
    "            # Get the recovered gram by slicing the Doc \n",
    "            recoveredgram = doc[start:end]\n",
    "            # Get the right context of the gram\n",
    "            rightcontext = doc[end:(end+rightcontextnumbers)]\n",
    "\n",
    "\n",
    "            leftcontextstorage.append(leftcontext.text)\n",
    "            recoveredgramstorage.append(recoveredgram.text)\n",
    "            rightcontextstorage.append(rightcontext.text)\n",
    "            \n",
    "df = pd.DataFrame(zip(leftcontextstorage,recoveredgramstorage,rightcontextstorage),\n",
    "                 columns=['left_context', 'candidate_skill', 'right_context'])\n"
   ]
  },
  {
   "cell_type": "code",
   "execution_count": 6,
   "metadata": {},
   "outputs": [],
   "source": [
    "df = df.drop_duplicates()\n",
    "df = shuffle(df)"
   ]
  },
  {
   "cell_type": "code",
   "execution_count": 7,
   "metadata": {},
   "outputs": [],
   "source": [
    "#Removing any double whitespaces\n",
    "df['left_context'] = df['left_context'].str.replace(r'[ ]{2,}', ' ', regex=True)\n",
    "df['candidate_skill'] = df['candidate_skill'].str.replace(r'[ ]{2,}', ' ', regex=True)\n",
    "df['right_context'] = df['right_context'].str.replace(r'[ ]{2,}', ' ', regex=True)\n",
    "\n",
    "df['concatenated'] = df['left_context'] + ' | ' + df['candidate_skill'] + ' | ' + df['right_context']"
   ]
  },
  {
   "cell_type": "code",
   "execution_count": 8,
   "metadata": {},
   "outputs": [
    {
     "name": "stderr",
     "output_type": "stream",
     "text": [
      "<ipython-input-8-55ec7716b5c1>:2: SettingWithCopyWarning: \n",
      "A value is trying to be set on a copy of a slice from a DataFrame.\n",
      "Try using .loc[row_indexer,col_indexer] = value instead\n",
      "\n",
      "See the caveats in the documentation: https://pandas.pydata.org/pandas-docs/stable/user_guide/indexing.html#returning-a-view-versus-a-copy\n",
      "  concat['label'] = ''\n"
     ]
    },
    {
     "data": {
      "text/html": [
       "<div>\n",
       "<style scoped>\n",
       "    .dataframe tbody tr th:only-of-type {\n",
       "        vertical-align: middle;\n",
       "    }\n",
       "\n",
       "    .dataframe tbody tr th {\n",
       "        vertical-align: top;\n",
       "    }\n",
       "\n",
       "    .dataframe thead th {\n",
       "        text-align: right;\n",
       "    }\n",
       "</style>\n",
       "<table border=\"1\" class=\"dataframe\">\n",
       "  <thead>\n",
       "    <tr style=\"text-align: right;\">\n",
       "      <th></th>\n",
       "      <th>concatenated</th>\n",
       "      <th>label</th>\n",
       "    </tr>\n",
       "  </thead>\n",
       "  <tbody>\n",
       "    <tr>\n",
       "      <th>14601</th>\n",
       "      <td>preferred | python php vb or | programming la...</td>\n",
       "      <td></td>\n",
       "    </tr>\n",
       "    <tr>\n",
       "      <th>60468</th>\n",
       "      <td>a vacancy for a | java j2ee developer fluent |...</td>\n",
       "      <td></td>\n",
       "    </tr>\n",
       "    <tr>\n",
       "      <th>70099</th>\n",
       "      <td>side components using python ruby | java scala...</td>\n",
       "      <td></td>\n",
       "    </tr>\n",
       "    <tr>\n",
       "      <th>75649</th>\n",
       "      <td>our client is seeking a | java developer who |...</td>\n",
       "      <td></td>\n",
       "    </tr>\n",
       "    <tr>\n",
       "      <th>2588</th>\n",
       "      <td>skills | python oracle teradata java | jee lin...</td>\n",
       "      <td></td>\n",
       "    </tr>\n",
       "    <tr>\n",
       "      <th>...</th>\n",
       "      <td>...</td>\n",
       "      <td>...</td>\n",
       "    </tr>\n",
       "    <tr>\n",
       "      <th>337</th>\n",
       "      <td>advantage for the | successful java | develope...</td>\n",
       "      <td></td>\n",
       "    </tr>\n",
       "    <tr>\n",
       "      <th>42340</th>\n",
       "      <td>be | proficient with java | and</td>\n",
       "      <td></td>\n",
       "    </tr>\n",
       "    <tr>\n",
       "      <th>40470</th>\n",
       "      <td>software | engineer java will contribute | to</td>\n",
       "      <td></td>\n",
       "    </tr>\n",
       "    <tr>\n",
       "      <th>22535</th>\n",
       "      <td>strong | java | coder</td>\n",
       "      <td></td>\n",
       "    </tr>\n",
       "    <tr>\n",
       "      <th>31921</th>\n",
       "      <td>application architectures | using java | and o...</td>\n",
       "      <td></td>\n",
       "    </tr>\n",
       "  </tbody>\n",
       "</table>\n",
       "<p>58558 rows × 2 columns</p>\n",
       "</div>"
      ],
      "text/plain": [
       "                                            concatenated label\n",
       "14601   preferred | python php vb or | programming la...      \n",
       "60468  a vacancy for a | java j2ee developer fluent |...      \n",
       "70099  side components using python ruby | java scala...      \n",
       "75649  our client is seeking a | java developer who |...      \n",
       "2588   skills | python oracle teradata java | jee lin...      \n",
       "...                                                  ...   ...\n",
       "337    advantage for the | successful java | develope...      \n",
       "42340                    be | proficient with java | and      \n",
       "40470      software | engineer java will contribute | to      \n",
       "22535                              strong | java | coder      \n",
       "31921  application architectures | using java | and o...      \n",
       "\n",
       "[58558 rows x 2 columns]"
      ]
     },
     "execution_count": 8,
     "metadata": {},
     "output_type": "execute_result"
    }
   ],
   "source": [
    "concat = df[['concatenated']]\n",
    "concat['label'] = ''\n",
    "concat"
   ]
  },
  {
   "cell_type": "code",
   "execution_count": 9,
   "metadata": {},
   "outputs": [],
   "source": [
    "df.to_csv(\"//Users/ivowings/Sync/Thesis/Datasources/Preprocessed/Combined/Taxonomy/Sorted/context_sneaky.csv\",\n",
    "          quoting=csv.QUOTE_NONNUMERIC,\n",
    "          index=False)"
   ]
  }
 ],
 "metadata": {
  "kernelspec": {
   "display_name": "Python 3",
   "language": "python",
   "name": "python3"
  },
  "language_info": {
   "codemirror_mode": {
    "name": "ipython",
    "version": 3
   },
   "file_extension": ".py",
   "mimetype": "text/x-python",
   "name": "python",
   "nbconvert_exporter": "python",
   "pygments_lexer": "ipython3",
   "version": "3.8.8"
  }
 },
 "nbformat": 4,
 "nbformat_minor": 4
}
