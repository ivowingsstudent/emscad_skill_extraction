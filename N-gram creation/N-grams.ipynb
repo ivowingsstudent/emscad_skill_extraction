{
 "cells": [
  {
   "cell_type": "code",
   "execution_count": 2,
   "metadata": {},
   "outputs": [],
   "source": [
    "import pandas as pd\n",
    "from flashtext import KeywordProcessor\n",
    "import spacy\n",
    "from spacy.matcher import PhraseMatcher\n",
    "import sys\n",
    "import re\n",
    "\n",
    "#progress bar packages\n",
    "from tqdm import tqdm\n",
    "#ngram package\n",
    "from nltk.util import ngrams\n",
    "from nltk.tokenize import RegexpTokenizer\n",
    "import nltk\n",
    "\n",
    "pd.set_option('display.max_columns', None)\n",
    "\n",
    "#en is the large model\n",
    "nlp = spacy.load(\"en_core_web_lg\")"
   ]
  },
  {
   "cell_type": "code",
   "execution_count": 4,
   "metadata": {},
   "outputs": [
    {
     "name": "stderr",
     "output_type": "stream",
     "text": [
      "100%|██████████| 302284/302284 [00:25<00:00, 11793.78it/s]\n",
      "100%|██████████| 2/2 [00:00<00:00, 8924.05it/s]\n",
      "  0%|          | 0/16426866 [00:00<?, ?it/s]"
     ]
    },
    {
     "name": "stdout",
     "output_type": "stream",
     "text": [
      "16426866\n"
     ]
    },
    {
     "name": "stderr",
     "output_type": "stream",
     "text": [
      "100%|██████████| 16426866/16426866 [02:12<00:00, 124003.60it/s]\n",
      "<ipython-input-4-b64325e3d7b1>:63: FutureWarning: The default value of regex will change from True to False in a future version.\n",
      "  allgrams['allgrams'] = allgrams['allgrams'].str.replace(r\"[(),.']\", '')\n"
     ]
    }
   ],
   "source": [
    "df_sentences = pd.read_csv(\"/Users/ivowings/Sync/Thesis/Datasources/Preprocessed/sentences/sentences_emscad.csv\")\n",
    "df_softskills = pd.read_csv(\"/Users/ivowings/Sync/Thesis/Datasources/Preprocessed/Skills/softskills.csv\")\n",
    "df_hardskills = pd.read_csv(\"/Users/ivowings/Sync/Thesis/Datasources/Preprocessed/Skills/emsi_skills.csv\")\n",
    "\n",
    "df_hardskills = df_hardskills[df_hardskills['type']== 'Hard Skill']\n",
    "df_hardskills = pd.DataFrame(df_hardskills['name'])\n",
    "\n",
    "#soft_skill,soft_skill_lemmatized,soft_skill_no_stopwords\n",
    "columnname = 'soft_skill_lemmatized'\n",
    "df_softskills = df_softskills[[columnname]]\n",
    "\n",
    "#Renameing the skill column names and merging afterwards\n",
    "df_softskills = df_softskills.rename(columns={columnname: 'skill'})\n",
    "df_hardskills = df_hardskills.rename(columns={'name': 'skill'})\n",
    "df_skills = pd.concat([df_softskills, df_hardskills])\n",
    "df_skills = df_skills.drop_duplicates()\n",
    "df_skills\n",
    "\n",
    "#Creating all the possible grams for each sentence\n",
    "allgrams = []\n",
    "\n",
    "#This tokenizer immediately removes punctuation and special characters from the sentence\n",
    "tokenizer = RegexpTokenizer(r'\\w+')\n",
    "\n",
    "#,sentence,sentence_lemmatized,sentence_no_stopwords\n",
    "\n",
    "for sentence in tqdm(df_sentences['sentence']):\n",
    "    tokenizedsentence = tokenizer.tokenize(str(sentence))\n",
    "    \n",
    "    #getting up to four grams for each sentence\n",
    "    for n in range(1,5):\n",
    "        grams = ngrams(tokenizedsentence,n)\n",
    "        for gram in grams:\n",
    "            allgrams.append(str(gram))\n",
    "\n",
    "allgrams = pd.DataFrame(allgrams)\n",
    "allgrams = allgrams.rename(columns={0:'allgrams'})\n",
    "print(allgrams.shape[0])\n",
    "\n",
    "#Initializing the keyword processor\n",
    "keyword_processor = KeywordProcessor(case_sensitive=False)\n",
    "\n",
    "#Adding all the skills to the processor\n",
    "for skill in tqdm(df_skills):\n",
    "    keyword_processor.add_keyword(skill)\n",
    "\n",
    "def searcher(row):\n",
    "    #check if the words are in the row and return a True or False instead of the actual word\n",
    "    boolean = bool(keyword_processor.extract_keywords(row))\n",
    "    return boolean\n",
    "\n",
    "tqdm.pandas()\n",
    "allgrams['contains_skill'] = allgrams['allgrams'].progress_apply(searcher)\n",
    "\n",
    "#Only selecting the ngrams which contain a skill\n",
    "allgrams = allgrams[allgrams.contains_skill == True]\n",
    "#cleaning up\n",
    "allgrams['allgrams'] = allgrams['allgrams'].astype(str)\n",
    "allgrams['allgrams'] = allgrams['allgrams'].str.replace(r\"[(),.']\", '')\n",
    "allgrams['allgrams'] = allgrams['allgrams'].str.strip()\n",
    "allgrams = allgrams.drop(columns=['contains_skill'])\n",
    "\n",
    "#Some softskills match multiple times, therefore removing the duplicates\n",
    "allgrams = allgrams.drop_duplicates().reset_index(drop=True)\n",
    "\n",
    "#removing any nans\n",
    "allgrams.dropna(subset=['allgrams'],inplace=True)\n",
    "\n",
    "import csv\n",
    "allgrams.to_csv(\"/Users/ivowings/Sync/Thesis/Datasources/Preprocessed/Combined/Taxonomy/n-grams.csv\", quoting=csv.QUOTE_NONNUMERIC, index=False)"
   ]
  }
 ],
 "metadata": {
  "kernelspec": {
   "display_name": "Python 3",
   "language": "python",
   "name": "python3"
  },
  "language_info": {
   "codemirror_mode": {
    "name": "ipython",
    "version": 3
   },
   "file_extension": ".py",
   "mimetype": "text/x-python",
   "name": "python",
   "nbconvert_exporter": "python",
   "pygments_lexer": "ipython3",
   "version": "3.8.8"
  }
 },
 "nbformat": 4,
 "nbformat_minor": 4
}
