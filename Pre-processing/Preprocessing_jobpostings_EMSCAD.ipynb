{
 "cells": [
  {
   "cell_type": "code",
   "execution_count": 1,
   "metadata": {},
   "outputs": [],
   "source": [
    "import pandas as pd\n",
    "from flashtext import KeywordProcessor\n",
    "import spacy\n",
    "import sys\n",
    "from tqdm import tqdm\n",
    "import csv\n",
    "import re\n",
    "from nltk.tokenize import sent_tokenize\n",
    "from bs4 import BeautifulSoup\n",
    "pd.set_option('display.max_columns', None)\n",
    "\n",
    "nlp = spacy.load(\"en_core_web_lg\")"
   ]
  },
  {
   "cell_type": "code",
   "execution_count": null,
   "metadata": {},
   "outputs": [],
   "source": [
    "#Function to retrieve the dependencies of the nouns\n",
    "def dep_tagger(text):\n",
    "    doc = nlp(str(text))\n",
    "    text = ' '.join([token.dep_ for token in doc])\n",
    "    return text\n",
    "\n",
    "#Function to retrieve the part of speech\n",
    "def pos_tagger(text):\n",
    "    doc = nlp(str(text))\n",
    "    text = ' '.join([token.pos_ for token in doc])\n",
    "    return text\n",
    "\n",
    "#Function to remove stopwords\n",
    "def stop_word_remover(text):\n",
    "    doc = nlp(str(text))\n",
    "    text = ' '.join([token.text for token in doc if token.is_stop == False])\n",
    "    return text\n",
    "\n",
    "#Function to lemmatize\n",
    "def lemmatizer(text):\n",
    "    doc = nlp(str(text))\n",
    "    text = ' '.join([token.lemma_ if token.lemma_ != '-PRON-' else token.text for token in doc])\n",
    "    return text"
   ]
  },
  {
   "cell_type": "code",
   "execution_count": null,
   "metadata": {},
   "outputs": [],
   "source": [
    "df = pd.read_csv(\"/Users/ivowings/Sync/Thesis/Datasources/Job vacancies/emscad_v1 2.csv\")\n",
    "print(df.shape[0])\n",
    "\n",
    "#Only selecting real job vacancies\n",
    "df = df[df.fraudulent=='f']\n",
    "print(df.shape[0])\n",
    "\n",
    "#Description and requirements are the columns that im interested in\n",
    "df = df[['description', 'requirements']]"
   ]
  },
  {
   "cell_type": "code",
   "execution_count": null,
   "metadata": {},
   "outputs": [],
   "source": [
    "#Removing the html tags in the columns.\n",
    "rows = []\n",
    "for t in tqdm(df['description']):\n",
    "    soup = BeautifulSoup(t,\"lxml\")\n",
    "    rows.append(soup.get_text())\n",
    "df['description'] = rows\n",
    "\n",
    "rows = []\n",
    "#Some columns contain nan therefore appending no text\n",
    "for t in tqdm(df['requirements']):\n",
    "    if str(t) == 'nan':\n",
    "        rows.append('')\n",
    "    else:\n",
    "        soup = BeautifulSoup(t,\"lxml\")\n",
    "        rows.append(soup.get_text())\n",
    "df['requirements'] = rows"
   ]
  },
  {
   "cell_type": "code",
   "execution_count": null,
   "metadata": {},
   "outputs": [],
   "source": [
    "#Concatting these into one column to create a more realistic situation because the skills are already extracted\n",
    "#in the requirements column\n",
    "df['job_description'] = df['description'] + ' ' + df['requirements']"
   ]
  },
  {
   "cell_type": "code",
   "execution_count": null,
   "metadata": {},
   "outputs": [],
   "source": [
    "#Removing the anonymized replacements in the text, for example (#URL_86fd830a95a64e2b30ceed829e63fd384c289e4f01e3c93608b42a84f6e662dd)\n",
    "#See the emscad paper for more details\n",
    "df['job_description'] = df['job_description'].str.replace('#[\\w-]+#', ' ',regex=True)"
   ]
  },
  {
   "cell_type": "code",
   "execution_count": null,
   "metadata": {},
   "outputs": [],
   "source": [
    "# Lowercasing, removing newline symbols, stripping leading and ending whitespaces\n",
    "df['job_description_clean'] = df['job_description'].str.lower()\n",
    "df['job_description_clean'] = df['job_description_clean'].str.replace(r'\\n\\n', ' ')\n",
    "df['job_description_clean'] = df['job_description_clean'].str.replace(r'\\n', '. ')\n",
    "df['job_description_clean'] = df['job_description_clean'].str.strip()\n"
   ]
  },
  {
   "cell_type": "code",
   "execution_count": null,
   "metadata": {},
   "outputs": [],
   "source": [
    "#Splitting the jobvacancies into sentences\n",
    "jobpostingcomplete = []\n",
    "sentences = []\n",
    "    \n",
    "for index in tqdm(range(0,len(df))):\n",
    "    doc = nlp(str(df['job_description_clean'].iloc[index]))\n",
    "    for sentence in doc.sents:\n",
    "        jobpostingcomplete.append(' '.join([token.text for token in doc]))\n",
    "        sentences.append(sentence.string.strip())\n",
    "\n",
    "#creating the df\n",
    "sentencesdf = pd.DataFrame(zip(jobpostingcomplete,sentences), \n",
    "                  columns=['jobposting', 'sentence'])\n",
    "len(sentencesdf)"
   ]
  },
  {
   "cell_type": "code",
   "execution_count": 16,
   "metadata": {},
   "outputs": [
    {
     "name": "stderr",
     "output_type": "stream",
     "text": [
      "<ipython-input-16-1317889e810f>:2: FutureWarning: The default value of regex will change from True to False in a future version.\n",
      "  sentencesdf['sentence'] = sentencesdf['sentence'].str.replace(r'[^A-Za-z0-9 ]+', ' ')\n"
     ]
    }
   ],
   "source": [
    "#Removing special characters from the sentences, removing double whitespace, and trailing whitespaces\n",
    "sentencesdf['sentence'] = sentencesdf['sentence'].str.replace(r'[^A-Za-z0-9 ]+', ' ')\n",
    "sentencesdf['sentence'] = sentencesdf['sentence'].str.replace(r'  ', ' ')\n",
    "sentencesdf['sentence'] = sentencesdf['sentence'].str.strip()\n"
   ]
  },
  {
   "cell_type": "code",
   "execution_count": 21,
   "metadata": {},
   "outputs": [
    {
     "name": "stdout",
     "output_type": "stream",
     "text": [
      "Before removing NaN  302284\n",
      "After removing NaN  302284\n"
     ]
    }
   ],
   "source": [
    "#Dropping any nan sentences\n",
    "print('Before removing NaN ', sentencesdf.shape[0])\n",
    "sentencesdf = sentencesdf.dropna()\n",
    "print('After removing NaN ', sentencesdf.shape[0])\n",
    "\n",
    "#Dropping any sentence which contain empty string value\n",
    "print('Before removing empty strings ', sentencesdf.shape[0])\n",
    "sentencesdf = sentencesdf[sentencesdf['sentence'] != '']\n",
    "print('After removing empty strings ', sentencesdf.shape[0])\n",
    "\n"
   ]
  },
  {
   "cell_type": "code",
   "execution_count": 12,
   "metadata": {},
   "outputs": [
    {
     "name": "stderr",
     "output_type": "stream",
     "text": [
      "100%|██████████| 302284/302284 [36:48<00:00, 136.88it/s]\n",
      "100%|██████████| 302284/302284 [35:52<00:00, 140.46it/s]\n"
     ]
    }
   ],
   "source": [
    "#tqdm.pandas() is used for a progress bar on the pandas apply function\n",
    "tqdm.pandas()\n",
    "\n",
    "sentencesdf['sentence_lemmatized'] = sentencesdf['sentence'].progress_apply(lemmatizer)\n",
    "sentencesdf['sentence_no_stopwords'] = sentencesdf['sentence'].progress_apply(stop_word_remover)"
   ]
  },
  {
   "cell_type": "code",
   "execution_count": null,
   "metadata": {},
   "outputs": [],
   "source": [
    "sentencesdf = sentencesdf.astype(str)\n",
    "#Quoting is necessary because the number of rows changes after writing\n",
    "sentencesdf.to_csv(\"/Users/ivowings/Sync/Thesis/Datasources/Preprocessed/sentences/sentences_emscad.csv\",\n",
    "                   index=False, \n",
    "                   quoting=csv.QUOTE_NONNUMERIC\n",
    "                  )"
   ]
  }
 ],
 "metadata": {
  "kernelspec": {
   "display_name": "Python 3",
   "language": "python",
   "name": "python3"
  },
  "language_info": {
   "codemirror_mode": {
    "name": "ipython",
    "version": 3
   },
   "file_extension": ".py",
   "mimetype": "text/x-python",
   "name": "python",
   "nbconvert_exporter": "python",
   "pygments_lexer": "ipython3",
   "version": "3.8.8"
  }
 },
 "nbformat": 4,
 "nbformat_minor": 2
}
