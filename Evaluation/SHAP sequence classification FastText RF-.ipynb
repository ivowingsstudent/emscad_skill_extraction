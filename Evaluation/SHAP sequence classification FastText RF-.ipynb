{
 "cells": [
  {
   "cell_type": "code",
   "execution_count": 1,
   "id": "naughty-parking",
   "metadata": {},
   "outputs": [
    {
     "name": "stderr",
     "output_type": "stream",
     "text": [
      "Warning : `load_model` does not return WordVectorModel or SupervisedModel any more, but a `FastText` object which is very similar.\n"
     ]
    }
   ],
   "source": [
    "import pandas as pd\n",
    "import spacy \n",
    "\n",
    "from tqdm import tqdm\n",
    "tqdm.pandas()\n",
    "import matplotlib.pyplot as plt\n",
    "import numpy as np\n",
    "\n",
    "import fasttext\n",
    "\n",
    "from sklearn.linear_model import LogisticRegression\n",
    "from sklearn import svm\n",
    "from sklearn.ensemble import RandomForestClassifier\n",
    "from sklearn.ensemble import GradientBoostingClassifier\n",
    "from sklearn.linear_model import SGDClassifier\n",
    "\n",
    "\n",
    "from sklearn.metrics import classification_report, confusion_matrix\n",
    "from sklearn.model_selection import train_test_split\n",
    "from sklearn.metrics import recall_score\n",
    "from sklearn.metrics import f1_score\n",
    "from sklearn.metrics import precision_score\n",
    "\n",
    "from sklearn.model_selection import learning_curve\n",
    "\n",
    "from statistics import mean\n",
    "\n",
    "from nltk.tokenize import RegexpTokenizer\n",
    "\n",
    "fasttext = fasttext.load_model(\"/Users/ivowings/Downloads/cc.en.300.bin\")\n",
    "\n"
   ]
  },
  {
   "cell_type": "code",
   "execution_count": 2,
   "id": "international-mechanics",
   "metadata": {},
   "outputs": [],
   "source": [
    "annotations = '/Users/ivowings/Sync/Thesis/Datasources/Preprocessed/Combined/Taxonomy/Normal/Annotated/combined_annotations.csv'\n",
    "#annotations = 'D:/Sync/Thesis/Datasources/Preprocessed/Combined/Taxonomy/Normal/Annotated/combined_annotations.csv'"
   ]
  },
  {
   "cell_type": "code",
   "execution_count": 3,
   "id": "stuffed-workshop",
   "metadata": {},
   "outputs": [
    {
     "name": "stdout",
     "output_type": "stream",
     "text": [
      "Number of annotated rows  20836\n"
     ]
    }
   ],
   "source": [
    "df2 = pd.read_csv(annotations,sep=';')\n",
    "\n",
    "#Filling any empty context columns with 'empty'\n",
    "df2['left_context'] = df2['left_context'].astype(str).replace(r'^\\s*$', 'empty', regex=True)\n",
    "df2['right_context'] = df2['right_context'].astype(str).replace(r'^\\s*$', 'empty', regex=True)\n",
    "\n",
    "df2['concatenated'] = df2['left_context'] + ' | ' + df2['candidate_skill'] + ' | ' + df2['right_context']\n",
    "print('Number of annotated rows ',df2.shape[0])"
   ]
  },
  {
   "cell_type": "code",
   "execution_count": 4,
   "id": "temporal-symphony",
   "metadata": {},
   "outputs": [],
   "source": [
    "df = df2.copy()\n",
    "#df = df.head(1000)"
   ]
  },
  {
   "cell_type": "code",
   "execution_count": 5,
   "id": "laden-trust",
   "metadata": {},
   "outputs": [],
   "source": [
    "#Function to retrieve word2vec vectors from spacy\n",
    "def fasttext_retriever_sum(text):\n",
    "    tokenizer = RegexpTokenizer(r'\\w+')\n",
    "    tokens =  tokenizer.tokenize(text)\n",
    "    wordvectors = []\n",
    "    for token in tokens:\n",
    "        wordvectors.append(fasttext[token])\n",
    "    wordvectors = sum(wordvectors)\n",
    "    return wordvectors\n",
    "    \n",
    "\n",
    "def fasttext_retriever_average(text):\n",
    "    tokenizer = RegexpTokenizer(r'\\w+')\n",
    "    tokens =  tokenizer.tokenize(text)\n",
    "    wordvectors = []\n",
    "    for token in tokens:\n",
    "        wordvectors.append(fasttext[token])\n",
    "    wordvectors = sum(wordvectors)/len(wordvectors)\n",
    "    return wordvectors\n",
    "\n",
    "mode = fasttext_retriever_average"
   ]
  },
  {
   "cell_type": "code",
   "execution_count": 6,
   "id": "baking-charlotte",
   "metadata": {},
   "outputs": [
    {
     "name": "stderr",
     "output_type": "stream",
     "text": [
      "100%|██████████| 20836/20836 [00:02<00:00, 9804.00it/s] \n",
      "100%|██████████| 20836/20836 [00:10<00:00, 1978.73it/s]\n",
      "100%|██████████| 20836/20836 [00:03<00:00, 5869.54it/s]\n",
      "100%|██████████| 20836/20836 [00:05<00:00, 3775.67it/s] \n",
      "100%|██████████| 20836/20836 [00:00<00:00, 24734.12it/s]\n",
      "100%|██████████| 20836/20836 [00:05<00:00, 4062.04it/s] \n"
     ]
    }
   ],
   "source": [
    "#Retrieving the word2vec vectors\n",
    "x_left = pd.DataFrame(df['left_context'].progress_apply(mode))\n",
    "x_left = x_left['left_context'].progress_apply(pd.Series)\n",
    "\n",
    "#Retrieving the word2vec vectors\n",
    "x_right = pd.DataFrame(df['right_context'].progress_apply(mode))\n",
    "x_right = x_right['right_context'].progress_apply(pd.Series)\n",
    "\n",
    "#Retrieving the word2vec vectors\n",
    "x_middle = pd.DataFrame(df['candidate_skill'].progress_apply(mode))\n",
    "x_middle = x_middle['candidate_skill'].progress_apply(pd.Series) \n",
    "\n",
    "x = x_left\n",
    "x['sep'] = 5\n",
    "x = x.join(x_middle,lsuffix='_left', rsuffix='_middle')\n",
    "x['sep2'] = 5\n",
    "x = x.join(x_right,lsuffix='_middle', rsuffix='_right')"
   ]
  },
  {
   "cell_type": "code",
   "execution_count": 7,
   "id": "surprised-australian",
   "metadata": {},
   "outputs": [],
   "source": [
    "left_context_columns = ['left_context_'+ str(x) for x in range(0,300)]\n",
    "separator_1 = ['separator_1']\n",
    "candidate_skill_columns = ['candidate_skill_'+ str(x) for x in range(0,300)]\n",
    "separator_2 = ['separator_2']\n",
    "right_context_columns = ['right_context_'+ str(x) for x in range(0,300)]\n",
    "column_names = left_context_columns + separator_1 + candidate_skill_columns + separator_2 + right_context_columns"
   ]
  },
  {
   "cell_type": "code",
   "execution_count": 8,
   "id": "compatible-draft",
   "metadata": {},
   "outputs": [],
   "source": [
    "x.columns = column_names"
   ]
  },
  {
   "cell_type": "code",
   "execution_count": 9,
   "id": "three-driver",
   "metadata": {},
   "outputs": [],
   "source": [
    "RF = RandomForestClassifier(random_state=456, n_jobs=-1)"
   ]
  },
  {
   "cell_type": "code",
   "execution_count": 10,
   "id": "artificial-intention",
   "metadata": {},
   "outputs": [],
   "source": [
    "X_train,X_test,y_train,y_test=train_test_split(x, df['label'], test_size=0.2,random_state=456)"
   ]
  },
  {
   "cell_type": "code",
   "execution_count": 11,
   "id": "functional-brave",
   "metadata": {},
   "outputs": [
    {
     "data": {
      "text/plain": [
       "RandomForestClassifier(n_jobs=-1, random_state=456)"
      ]
     },
     "execution_count": 11,
     "metadata": {},
     "output_type": "execute_result"
    }
   ],
   "source": [
    "RF.fit(X_train,y_train)"
   ]
  },
  {
   "cell_type": "code",
   "execution_count": 12,
   "id": "surprised-consent",
   "metadata": {},
   "outputs": [],
   "source": [
    "test = X_test.join(y_test)\n",
    "not_skill = test[test.label==0].sample(30,random_state=456)\n",
    "soft_skill = test[test.label==1].sample(30,random_state=456)\n",
    "hard_skill = test[test.label==2].sample(30,random_state=456)\n",
    "\n",
    "import pandas as pd\n",
    "X_test = pd.concat([not_skill,soft_skill,hard_skill])\n",
    "X_test = X_test.drop(columns=['label'])\n",
    "y_test = pd.concat([not_skill,soft_skill,hard_skill])\n",
    "y_test = y_test[['label']]"
   ]
  },
  {
   "cell_type": "code",
   "execution_count": null,
   "id": "stuffed-printing",
   "metadata": {},
   "outputs": [],
   "source": [
    "import shap\n",
    "shap_values = shap.TreeExplainer(RF).shap_values(X_train)\n",
    "shap.summary_plot(shap_values, X_test)"
   ]
  },
  {
   "cell_type": "code",
   "execution_count": null,
   "id": "sudden-impossible",
   "metadata": {},
   "outputs": [],
   "source": []
  }
 ],
 "metadata": {
  "kernelspec": {
   "display_name": "Python 3",
   "language": "python",
   "name": "python3"
  },
  "language_info": {
   "codemirror_mode": {
    "name": "ipython",
    "version": 3
   },
   "file_extension": ".py",
   "mimetype": "text/x-python",
   "name": "python",
   "nbconvert_exporter": "python",
   "pygments_lexer": "ipython3",
   "version": "3.8.8"
  }
 },
 "nbformat": 4,
 "nbformat_minor": 5
}
